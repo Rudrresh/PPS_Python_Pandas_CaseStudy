{
  "nbformat": 4,
  "nbformat_minor": 0,
  "metadata": {
    "colab": {
      "name": "PandasCaseStudy2.ipynb",
      "provenance": []
    },
    "kernelspec": {
      "name": "python3",
      "display_name": "Python 3"
    },
    "language_info": {
      "name": "python"
    }
  },
  "cells": [
    {
      "cell_type": "code",
      "execution_count": 12,
      "metadata": {
        "colab": {
          "base_uri": "https://localhost:8080/"
        },
        "id": "f92c1D1cWdfl",
        "outputId": "b8d69fc5-84f3-4fbc-a19e-da1aa4be5190"
      },
      "outputs": [
        {
          "output_type": "stream",
          "name": "stdout",
          "text": [
            "      A     B      C      D\n",
            "0  0.00   2.0   6.70   2.34\n",
            "1  1.01   8.6   0.45  13.00\n",
            "2  4.00  10.0  22.00  17.00\n",
            "3  1.00   2.1   2.10   0.00\n",
            "[11.04 23.06 53.    5.2 ]\n",
            "[11.04 23.06 53.    5.2 ]\n"
          ]
        }
      ],
      "source": [
        "import pandas as pd\n",
        "import numpy as np\n",
        "\n",
        "array = np.array([ [0,2,6.7,2.34], [1.01,8.60,0.45,13.0], [4,10,22,17], [1.0,2.1,2.1,0]])\n",
        "\n",
        "# Creating a list of column names\n",
        "column_values = ['A','B','C','D']\n",
        "df = pd.DataFrame(data=array,columns= column_values)\n",
        "print(df)\n",
        "\n",
        "#sum of row 1 to 4\n",
        "print(array.sum(axis = 1))\n",
        "\n"
      ]
    }
  ]
}