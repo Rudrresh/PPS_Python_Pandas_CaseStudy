{
  "nbformat": 4,
  "nbformat_minor": 0,
  "metadata": {
    "colab": {
      "name": "PandasCaseStudy.ipynb",
      "provenance": []
    },
    "kernelspec": {
      "name": "python3",
      "display_name": "Python 3"
    },
    "language_info": {
      "name": "python"
    }
  },
  "cells": [
    {
      "cell_type": "code",
      "execution_count": 1,
      "metadata": {
        "colab": {
          "base_uri": "https://localhost:8080/"
        },
        "id": "joIFA-GiR5Yd",
        "outputId": "54745502-b60f-4828-b9ab-939231ce30ce"
      },
      "outputs": [
        {
          "output_type": "stream",
          "name": "stdout",
          "text": [
            "   first  second\n",
            "a    1.0       5\n",
            "b    2.0       6\n",
            "c    3.0       7\n",
            "d    4.0       8\n",
            "e    NaN       9\n",
            "   first  second  third\n",
            "a    1.0       5      5\n",
            "b    2.0       6      6\n",
            "c    3.0       7      7\n",
            "d    4.0       8      8\n",
            "e    NaN       9      9\n"
          ]
        }
      ],
      "source": [
        "# Program to Create Data Frame with two dictionaries \n",
        "\n",
        "import pandas as pd\n",
        "# Define Dictionary 1\n",
        "dict1 ={'a':1, 'b':2, 'c':3, 'd':4, }\n",
        "\n",
        "# Define Dictionary 2\n",
        "dict2 ={'a':5, 'b':6, 'c':7, 'd':8, 'e':9}\n",
        "\n",
        "# Define Data with dict1 and dict2\n",
        "Data = {'first':dict1, 'second':dict2}\n",
        "\n",
        "# Create DataFrame\n",
        "df = pd.DataFrame(Data)\n",
        "\n",
        "print(df)\n",
        "\n",
        "#Merging dictionaries 1 and 2\n",
        "dict3 = {**dict1, **dict2}\n",
        "Data = {'first':dict1, 'second':dict2, 'third':dict3}\n",
        "df = pd.DataFrame(Data)\n",
        "\n",
        "print(df)\n"
      ]
    }
  ]
}